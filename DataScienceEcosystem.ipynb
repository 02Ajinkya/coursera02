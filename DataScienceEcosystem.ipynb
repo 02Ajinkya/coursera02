{
 "cells": [
  {
   "cell_type": "markdown",
   "id": "e6f0c6db",
   "metadata": {},
   "source": [
    "# Data Science Tools and Ecosystem"
   ]
  },
  {
   "cell_type": "markdown",
   "id": "aef891cd",
   "metadata": {},
   "source": [
    "In this notebook, Data Science Tools and Ecosystem are summarized."
   ]
  },
  {
   "cell_type": "markdown",
   "id": "9648042f",
   "metadata": {},
   "source": [
    "Some of the popular languages that Data Scientists use are:\n",
    "Python\n",
    "R\n",
    "SQL"
   ]
  },
  {
   "cell_type": "markdown",
   "id": "cce9339b",
   "metadata": {},
   "source": [
    "Some of the commonly used libraries used by Data Scientists include:\n",
    "\n",
    "1. Pandas: for data manipulation and analysis\n",
    "2. Scikit-learn: for machine learning tasks such as classification, regression and clustering\n",
    "3. Matplotlib: for data visualization\n",
    "4. TensorFlow: for building and training machine learning models"
   ]
  },
  {
   "attachments": {},
   "cell_type": "markdown",
   "id": "f5897be6",
   "metadata": {},
   "source": [
    "Data Science Tools\n",
    " Jupyter Notebook    \n",
    " Spyder              \n",
    " RStudio "
   ]
  },
  {
   "cell_type": "markdown",
   "id": "d3895310",
   "metadata": {},
   "source": [
    "### Below are a few examples of evaluating arithmetic expressions in Python\n",
    "\n",
    "1 Addition: 2 + 3 evaluates to 5\n",
    "2 Subtraction: 10 - 5 evaluates to 5\n",
    "3 Multiplication: 4 * 5 evaluates to 20\n"
   ]
  },
  {
   "cell_type": "code",
   "execution_count": 3,
   "id": "cc27bedf",
   "metadata": {},
   "outputs": [
    {
     "data": {
      "text/plain": [
       "17"
      ]
     },
     "execution_count": 3,
     "metadata": {},
     "output_type": "execute_result"
    }
   ],
   "source": [
    "#This a simple arithmetic expression to mutiply then add integers\n",
    "\n",
    "\n",
    "\n",
    "(3*4)+5"
   ]
  },
  {
   "cell_type": "code",
   "execution_count": 4,
   "id": "66b8efb9",
   "metadata": {},
   "outputs": [
    {
     "name": "stdout",
     "output_type": "stream",
     "text": [
      "3.3333333333333335\n"
     ]
    }
   ],
   "source": [
    "#This will convert 200 minutes to hours by diving by 60\n",
    "\n",
    "\n",
    "hours = 200 / 60\n",
    "print(hours)"
   ]
  },
  {
   "cell_type": "markdown",
   "id": "3f12c58c",
   "metadata": {},
   "source": [
    "Objectives:\n",
    "1) learn coding \n",
    "2) learn libraries\n",
    "3) better analyse data"
   ]
  },
  {
   "cell_type": "markdown",
   "id": "581fc871",
   "metadata": {},
   "source": [
    "## Author \n",
    "AJINKYA MORE"
   ]
  },
  {
   "cell_type": "code",
   "execution_count": 6,
   "id": "e7a9207b",
   "metadata": {},
   "outputs": [
    {
     "data": {
      "text/plain": [
       "'git init'"
      ]
     },
     "execution_count": 6,
     "metadata": {},
     "output_type": "execute_result"
    }
   ],
   "source": []
  },
  {
   "cell_type": "code",
   "execution_count": 8,
   "id": "848942fe",
   "metadata": {},
   "outputs": [
    {
     "ename": "SyntaxError",
     "evalue": "invalid syntax (999877077.py, line 1)",
     "output_type": "error",
     "traceback": [
      "\u001b[1;36m  Input \u001b[1;32mIn [8]\u001b[1;36m\u001b[0m\n\u001b[1;33m    git init\u001b[0m\n\u001b[1;37m        ^\u001b[0m\n\u001b[1;31mSyntaxError\u001b[0m\u001b[1;31m:\u001b[0m invalid syntax\n"
     ]
    }
   ],
   "source": []
  },
  {
   "cell_type": "code",
   "execution_count": null,
   "id": "cc3e1910",
   "metadata": {},
   "outputs": [],
   "source": []
  }
 ],
 "metadata": {
  "kernelspec": {
   "display_name": "Python 3 (ipykernel)",
   "language": "python",
   "name": "python3"
  },
  "language_info": {
   "codemirror_mode": {
    "name": "ipython",
    "version": 3
   },
   "file_extension": ".py",
   "mimetype": "text/x-python",
   "name": "python",
   "nbconvert_exporter": "python",
   "pygments_lexer": "ipython3",
   "version": "3.9.12"
  }
 },
 "nbformat": 4,
 "nbformat_minor": 5
}
